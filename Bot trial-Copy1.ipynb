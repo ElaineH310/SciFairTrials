{
 "cells": [
  {
   "cell_type": "code",
   "execution_count": 1,
   "id": "c259c2ed",
   "metadata": {},
   "outputs": [],
   "source": [
    "#!pip install numpy\n",
    "#!pip install nltk\n",
    "#!pip install tensorflow\n",
    "#!pip install tflearn"
   ]
  },
  {
   "cell_type": "code",
   "execution_count": 2,
   "id": "bb9b4825",
   "metadata": {},
   "outputs": [
    {
     "name": "stderr",
     "output_type": "stream",
     "text": [
      "[nltk_data] Downloading package punkt to\n",
      "[nltk_data]     C:\\Users\\user\\AppData\\Roaming\\nltk_data...\n",
      "[nltk_data]   Package punkt is already up-to-date!\n"
     ]
    },
    {
     "name": "stdout",
     "output_type": "stream",
     "text": [
      "WARNING:tensorflow:From C:\\Users\\user\\anaconda3\\Lib\\site-packages\\tensorflow\\python\\compat\\v2_compat.py:107: disable_resource_variables (from tensorflow.python.ops.variable_scope) is deprecated and will be removed in a future version.\n",
      "Instructions for updating:\n",
      "non-resource variables are not supported in the long term\n",
      "curses is not supported on this machine (please install/reinstall curses for an optimal experience)\n"
     ]
    }
   ],
   "source": [
    "import nltk\n",
    "nltk.download('punkt')\n",
    "from nltk.stem.lancaster import LancasterStemmer\n",
    "stemmer=LancasterStemmer()\n",
    "import numpy\n",
    "import time\n",
    "import tflearn\n",
    "import tensorflow\n",
    "import random\n",
    "import pickle\n",
    "import json\n",
    "#with open('intents.json') as file:\n",
    "#    data=json.load(file)\n",
    "with open('intents_ZH-TW.json', 'r', encoding='utf-8') as file:\n",
    "    data = json.load(file)"
   ]
  },
  {
   "cell_type": "code",
   "execution_count": 3,
   "id": "7155741b",
   "metadata": {},
   "outputs": [],
   "source": [
    "'''\n",
    "try:\n",
    "    with open(\"data.pickle\", \"rb\") as f:\n",
    "        words, labels, training, output = pickle.load(f)\n",
    "except:\n",
    "'''\n",
    "words=[]\n",
    "labels=[]\n",
    "docs_x=[]\n",
    "docs_y=[]\n",
    "for intent in data[\"intents\"]:\n",
    "    for pattern in intent[\"patterns\"]:\n",
    "        wrds=nltk.word_tokenize(pattern)\n",
    "        words.extend(wrds)\n",
    "        docs_x.append(wrds)\n",
    "        docs_y.append(intent[\"tag\"])\n",
    "        \n",
    "    if intent['tag'] not in labels:\n",
    "        labels.append (intent[\"tag\"])\n"
   ]
  },
  {
   "cell_type": "code",
   "execution_count": 4,
   "id": "3309bd41",
   "metadata": {},
   "outputs": [],
   "source": [
    "words=[stemmer.stem(w.lower()) for w in words if w !=\"?\"]\n",
    "words=sorted(list(set(words)))\n",
    "labels=sorted(labels)"
   ]
  },
  {
   "cell_type": "code",
   "execution_count": 5,
   "id": "b386c8c9",
   "metadata": {},
   "outputs": [],
   "source": [
    "training=[]\n",
    "output=[]\n",
    "out_empty=[0 for _ in range(len(labels))]\n",
    "for x,doc in enumerate(docs_x):\n",
    "    bag=[]\n",
    "    wrds=[stemmer.stem(w.lower()) for w in doc]\n",
    "    for w in words:\n",
    "        if w in wrds:\n",
    "            bag.append(1)\n",
    "        else:\n",
    "            bag.append(0)\n",
    "    output_row=out_empty[:]\n",
    "    output_row[labels.index(docs_y[x])]=1\n",
    "\n",
    "    training.append(bag)\n",
    "    output.append(output_row)"
   ]
  },
  {
   "cell_type": "code",
   "execution_count": 6,
   "id": "ace03c67",
   "metadata": {},
   "outputs": [],
   "source": [
    "training=numpy.array(training)\n",
    "output=numpy.array(output)"
   ]
  },
  {
   "cell_type": "code",
   "execution_count": 7,
   "id": "a0137a82",
   "metadata": {},
   "outputs": [
    {
     "name": "stdout",
     "output_type": "stream",
     "text": [
      "WARNING:tensorflow:From C:\\Users\\user\\anaconda3\\Lib\\site-packages\\tflearn\\initializations.py:164: calling TruncatedNormal.__init__ (from tensorflow.python.ops.init_ops) with dtype is deprecated and will be removed in a future version.\n",
      "Instructions for updating:\n",
      "Call initializer instance with the dtype argument instead of passing it to the constructor\n"
     ]
    }
   ],
   "source": [
    "import tensorflow as tf\n",
    "from tensorflow.keras import backend as K\n",
    "import tflearn\n",
    "\n",
    "K.clear_session()\n",
    "\n",
    "net = tflearn.input_data(shape=[None, len(training[0])])\n",
    "net = tflearn.fully_connected(net, 8)\n",
    "net = tflearn.fully_connected(net, 8)\n",
    "net = tflearn.fully_connected(net, len(output[0]), activation=\"softmax\")\n",
    "net = tflearn.regression(net)\n",
    "\n",
    "model = tflearn.DNN(net)"
   ]
  },
  {
   "cell_type": "code",
   "execution_count": 8,
   "id": "fa21117f",
   "metadata": {},
   "outputs": [
    {
     "name": "stdout",
     "output_type": "stream",
     "text": [
      "Training Step: 17999  | total loss: \u001b[1m\u001b[32m2.13961\u001b[0m\u001b[0m | time: 0.028s\n",
      "| Adam | epoch: 1500 | loss: 2.13961 - acc: 0.9000 -- iter: 88/94\n",
      "Training Step: 18000  | total loss: \u001b[1m\u001b[32m1.92582\u001b[0m\u001b[0m | time: 0.030s\n",
      "| Adam | epoch: 1500 | loss: 1.92582 - acc: 0.9100 -- iter: 94/94\n",
      "--\n",
      "INFO:tensorflow:C:\\Users\\user\\BotTrial\\model.tflearn is not in all_model_checkpoint_paths. Manually adding it.\n"
     ]
    }
   ],
   "source": [
    "model.fit(training,output,n_epoch=1500,batch_size=8,show_metric=True)\n",
    "model.save(\"model.tflearn\")"
   ]
  },
  {
   "cell_type": "code",
   "execution_count": 9,
   "id": "8fd9120b",
   "metadata": {},
   "outputs": [],
   "source": [
    "def bag_of_words(s, words):\n",
    "    bag = [0 for _ in range(len(words))]\n",
    "\n",
    "    s_words = nltk.word_tokenize(s)\n",
    "    s_words = [stemmer.stem(word.lower()) for word in s_words]\n",
    "\n",
    "    for se in s_words:\n",
    "        for i, w in enumerate(words):\n",
    "            if w == se:\n",
    "                bag[i] = 1\n",
    "\n",
    "    return numpy.array(bag)"
   ]
  },
  {
   "cell_type": "code",
   "execution_count": 10,
   "id": "a22fbe73",
   "metadata": {},
   "outputs": [
    {
     "name": "stdout",
     "output_type": "stream",
     "text": [
      "pygame 2.5.2 (SDL 2.28.3, Python 3.11.5)\n",
      "Hello from the pygame community. https://www.pygame.org/contribute.html\n"
     ]
    }
   ],
   "source": [
    "import speech_recognition as sr\n",
    "def listenTo():\n",
    "    r = sr.Recognizer()\n",
    "\n",
    "    with sr.Microphone() as source:\n",
    "        r.adjust_for_ambient_noise(source)\n",
    "        audio = r.listen(source)\n",
    "\n",
    "    return r.recognize_google(audio, language='zh-TW')\n",
    "#Course 88\n",
    "import tempfile\n",
    "from gtts import gTTS\n",
    "from pygame import mixer\n",
    "mixer.init()\n",
    "\n",
    "def speak(sentence):\n",
    "    with tempfile.NamedTemporaryFile(delete=True) as fp:\n",
    "        tts = gTTS(text=sentence, lang='zh-tw')\n",
    "        tts.save(\"{}.mp3\".format(fp.name))\n",
    "        mixer.music.load('{}.mp3'.format(fp.name))\n",
    "        mixer.music.play()"
   ]
  },
  {
   "cell_type": "code",
   "execution_count": 11,
   "id": "25baedf3",
   "metadata": {},
   "outputs": [],
   "source": [
    "def chat():\n",
    "    print(\"開始與您的機器人對話（輸入 結束 以停止）：\")\n",
    "    speak(\"開始與您的機器人對話（輸入 結束 以停止）：\")\n",
    "    time.sleep(5)\n",
    "    while True:\n",
    "        try:\n",
    "            inp=listenTo()\n",
    "            print(\"You:\",inp)\n",
    "            time.sleep(2)\n",
    "            if inp==\"結束\":\n",
    "                break\n",
    "            results=model.predict([bag_of_words(inp,words)])\n",
    "            results_index=numpy.argmax(results)\n",
    "            tag=labels[results_index]\n",
    "\n",
    "            for tg in data[\"intents\"]:\n",
    "                if tg[\"tag\"]==tag:\n",
    "                    responses=tg[\"responses\"]\n",
    "            rd=random.choice(responses)\n",
    "            speak(rd)\n",
    "            print(rd)\n",
    "            time.sleep(5)\n",
    "        except sr.UnknownValueError:\n",
    "            print(\"我無法理解音訊\")\n",
    "        except sr.RequestError as e:\n",
    "            print(\"無法從 Google 語音識別服務請求結果; {0}\".format(e))\n"
   ]
  },
  {
   "cell_type": "code",
   "execution_count": 12,
   "id": "80a272a5",
   "metadata": {
    "scrolled": false
   },
   "outputs": [
    {
     "name": "stdout",
     "output_type": "stream",
     "text": [
      "開始與您的機器人對話（輸入 結束 以停止）：\n",
      "我無法理解音訊\n",
      "You: 請給我詳細的解決方法結束\n",
      "在尋找協助時，可以嘗試聯繫當地的心理健康機構，他們會有相應的資源和專業人員。\n",
      "我無法理解音訊\n",
      "我無法理解音訊\n",
      "You: 運動能解決嗎\n",
      "運動對於改善心理健康有一定的幫助，它有助於釋放身體中的一些正面化學物質。你可以嘗試一些輕鬆的運動，看看對你的情緒有何影響。\n",
      "我無法理解音訊\n",
      "You: 我覺得你這些用處不大\n",
      "有些人選擇與社交工作者、心理治療師或心理輔導師合作。他們都是可以提供支持和指導的專業人士。\n",
      "我無法理解音訊\n",
      "You: 結束\n"
     ]
    }
   ],
   "source": [
    "chat()"
   ]
  },
  {
   "cell_type": "code",
   "execution_count": null,
   "id": "58ef7a19",
   "metadata": {},
   "outputs": [],
   "source": []
  },
  {
   "cell_type": "code",
   "execution_count": null,
   "id": "8080e416",
   "metadata": {},
   "outputs": [],
   "source": []
  }
 ],
 "metadata": {
  "kernelspec": {
   "display_name": "Python 3 (ipykernel)",
   "language": "python",
   "name": "python3"
  },
  "language_info": {
   "codemirror_mode": {
    "name": "ipython",
    "version": 3
   },
   "file_extension": ".py",
   "mimetype": "text/x-python",
   "name": "python",
   "nbconvert_exporter": "python",
   "pygments_lexer": "ipython3",
   "version": "3.11.5"
  }
 },
 "nbformat": 4,
 "nbformat_minor": 5
}
