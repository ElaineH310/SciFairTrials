{
 "cells": [
  {
   "cell_type": "code",
   "execution_count": 6,
   "id": "0512bdf1",
   "metadata": {},
   "outputs": [],
   "source": [
    "#建立Videos子資料夾\n",
    "import os\n",
    "# Set the desired directory path\n",
    "dir_path = r'C:\\Users\\user\\Desktop\\Videos'\n",
    "\n",
    "# Create the directory if it doesn't exist\n",
    "if not os.path.exists(dir_path):\n",
    "    os.makedirs(dir_path)\n",
    "pwd_url=r'C:\\Users\\user\\Desktop\\Videos'"
   ]
  },
  {
   "cell_type": "code",
   "execution_count": 8,
   "id": "b8c8e819",
   "metadata": {},
   "outputs": [
    {
     "ename": "FileNotFoundError",
     "evalue": "[Errno 2] No such file or directory: 'C:\\\\Users\\\\user\\\\Desktop\\\\VideosH5.mp3'",
     "output_type": "error",
     "traceback": [
      "\u001b[1;31m---------------------------------------------------------------------------\u001b[0m",
      "\u001b[1;31mFileNotFoundError\u001b[0m                         Traceback (most recent call last)",
      "Cell \u001b[1;32mIn[8], line 12\u001b[0m\n\u001b[0;32m     10\u001b[0m \u001b[38;5;28;01mfrom\u001b[39;00m \u001b[38;5;21;01mpydub\u001b[39;00m \u001b[38;5;28;01mimport\u001b[39;00m AudioSegment\n\u001b[0;32m     11\u001b[0m \u001b[38;5;66;03m# 讀取 mp3 聲音檔\u001b[39;00m\n\u001b[1;32m---> 12\u001b[0m vmp3 \u001b[38;5;241m=\u001b[39m AudioSegment\u001b[38;5;241m.\u001b[39mfrom_file(pwd_url\u001b[38;5;241m+\u001b[39mmp3_name)\n\u001b[0;32m     13\u001b[0m \u001b[38;5;28mprint\u001b[39m(vmp3)\n\u001b[0;32m     14\u001b[0m \u001b[38;5;66;03m# 轉換成 wav 格式輸出\u001b[39;00m\n",
      "File \u001b[1;32m~\\anaconda3\\Lib\\site-packages\\pydub\\audio_segment.py:651\u001b[0m, in \u001b[0;36mAudioSegment.from_file\u001b[1;34m(cls, file, format, codec, parameters, start_second, duration, **kwargs)\u001b[0m\n\u001b[0;32m    649\u001b[0m \u001b[38;5;28;01mexcept\u001b[39;00m \u001b[38;5;167;01mTypeError\u001b[39;00m:\n\u001b[0;32m    650\u001b[0m     filename \u001b[38;5;241m=\u001b[39m \u001b[38;5;28;01mNone\u001b[39;00m\n\u001b[1;32m--> 651\u001b[0m file, close_file \u001b[38;5;241m=\u001b[39m _fd_or_path_or_tempfile(file, \u001b[38;5;124m'\u001b[39m\u001b[38;5;124mrb\u001b[39m\u001b[38;5;124m'\u001b[39m, tempfile\u001b[38;5;241m=\u001b[39m\u001b[38;5;28;01mFalse\u001b[39;00m)\n\u001b[0;32m    653\u001b[0m \u001b[38;5;28;01mif\u001b[39;00m \u001b[38;5;28mformat\u001b[39m:\n\u001b[0;32m    654\u001b[0m     \u001b[38;5;28mformat\u001b[39m \u001b[38;5;241m=\u001b[39m \u001b[38;5;28mformat\u001b[39m\u001b[38;5;241m.\u001b[39mlower()\n",
      "File \u001b[1;32m~\\anaconda3\\Lib\\site-packages\\pydub\\utils.py:60\u001b[0m, in \u001b[0;36m_fd_or_path_or_tempfile\u001b[1;34m(fd, mode, tempfile)\u001b[0m\n\u001b[0;32m     57\u001b[0m     close_fd \u001b[38;5;241m=\u001b[39m \u001b[38;5;28;01mTrue\u001b[39;00m\n\u001b[0;32m     59\u001b[0m \u001b[38;5;28;01mif\u001b[39;00m \u001b[38;5;28misinstance\u001b[39m(fd, basestring):\n\u001b[1;32m---> 60\u001b[0m     fd \u001b[38;5;241m=\u001b[39m \u001b[38;5;28mopen\u001b[39m(fd, mode\u001b[38;5;241m=\u001b[39mmode)\n\u001b[0;32m     61\u001b[0m     close_fd \u001b[38;5;241m=\u001b[39m \u001b[38;5;28;01mTrue\u001b[39;00m\n\u001b[0;32m     63\u001b[0m \u001b[38;5;28;01mtry\u001b[39;00m:\n",
      "\u001b[1;31mFileNotFoundError\u001b[0m: [Errno 2] No such file or directory: 'C:\\\\Users\\\\user\\\\Desktop\\\\VideosH5.mp3'"
     ]
    }
   ],
   "source": [
    "from pytube import YouTube\n",
    "url = 'https://www.youtube.com/watch?v=TFQ5UWVNMgY&list=PLiNElaMI7w6AIhlvZtNKSPOHAkkaNzE4z&index=2'\n",
    "yt = YouTube(url)\n",
    "# 取得影片的音軌\n",
    "audio_stream = yt.streams.filter(only_audio=True).first()\n",
    "# 下載音軌到指定的路徑\n",
    "mp3_name='H5'+'.mp3' #設定檔案名稱\n",
    "audio_stream.download(filename=mp3_name)\n",
    "# 匯入 pydub\n",
    "from pydub import AudioSegment\n",
    "# 讀取 mp3 聲音檔\n",
    "vmp3 = AudioSegment.from_file(pwd_url+mp3_name)\n",
    "print(vmp3)\n",
    "# 轉換成 wav 格式輸出\n",
    "output_file=pwd_url+mp3_name+'.wav'\n",
    "vmp3.export(output_file,format='wav')\n",
    "print('ok')\n",
    "from IPython.display import Audio\n",
    "Audio(output_file)"
   ]
  },
  {
   "cell_type": "code",
   "execution_count": null,
   "id": "25613960",
   "metadata": {},
   "outputs": [],
   "source": [
    "# import module\n",
    "import speech_recognition as sr\n",
    "r = sr.Recognizer()\n",
    "with sr.AudioFile(output_file) as source:\n",
    "  audio = r.record(source)\n",
    "# 還不能動\n",
    "# recognize speech using Google Speech Recognition\n",
    "try:\n",
    "    # for testing purposes, we're just using the default API key\n",
    "    # to use another API key, use `r.recognize_google(audio, key=\"GOOGLE_SPEECH_RECOGNITION_API_KEY\")`\n",
    "    # instead of `r.recognize_google(audio)`\n",
    "    inputText = r.recognize_google(audio)\n",
    "    print(inputText)\n",
    "except sr.UnknownValueError:\n",
    "    print(\"Google Speech Recognition could not understand audio\")\n",
    "except sr.RequestError as e:\n",
    "    print(\"Could not request results from Google Speech Recognition service; {0}\".format(e))"
   ]
  },
  {
   "cell_type": "code",
   "execution_count": null,
   "id": "056496b5",
   "metadata": {},
   "outputs": [],
   "source": [
    "from gtts import gTTS\n",
    "tts = gTTS('Ciao')\n",
    "tts.save('Ciao.mp3')\n",
    "!gtts-cli 'Ciao' --lang it --output Ciao.mp3"
   ]
  },
  {
   "cell_type": "code",
   "execution_count": null,
   "id": "16dfbcfb",
   "metadata": {},
   "outputs": [],
   "source": []
  }
 ],
 "metadata": {
  "kernelspec": {
   "display_name": "Python 3 (ipykernel)",
   "language": "python",
   "name": "python3"
  },
  "language_info": {
   "codemirror_mode": {
    "name": "ipython",
    "version": 3
   },
   "file_extension": ".py",
   "mimetype": "text/x-python",
   "name": "python",
   "nbconvert_exporter": "python",
   "pygments_lexer": "ipython3",
   "version": "3.11.5"
  }
 },
 "nbformat": 4,
 "nbformat_minor": 5
}
