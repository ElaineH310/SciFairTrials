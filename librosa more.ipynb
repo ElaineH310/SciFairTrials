{
 "cells": [
  {
   "cell_type": "code",
   "execution_count": 1,
   "id": "869645ef",
   "metadata": {
    "scrolled": true
   },
   "outputs": [
    {
     "data": {
      "text/plain": [
       "(array([-1.1368684e-12, -1.3642421e-12, -1.1368684e-13, ...,\n",
       "         0.0000000e+00,  0.0000000e+00,  0.0000000e+00], dtype=float32),\n",
       " 22050)"
      ]
     },
     "execution_count": 1,
     "metadata": {},
     "output_type": "execute_result"
    }
   ],
   "source": [
    "import librosa\n",
    "fn=\"01 冬節來府城食「菜包」.wav\"\n",
    "y, sr = librosa.load(fn)\n",
    "librosa.load(fn, sr=22050, mono=True, offset=0.0, duration=None)"
   ]
  },
  {
   "cell_type": "code",
   "execution_count": 2,
   "id": "3fc24372",
   "metadata": {
    "scrolled": false
   },
   "outputs": [
    {
     "name": "stderr",
     "output_type": "stream",
     "text": [
      "C:\\Users\\user\\AppData\\Local\\Temp\\ipykernel_10828\\4212432195.py:1: FutureWarning: get_duration() keyword argument 'filename' has been renamed to 'path' in version 0.10.0.\n",
      "\tThis alias will be removed in version 1.0.\n",
      "  librosa.get_duration(y=None, sr=22050, S=None, n_fft=2048, hop_length=512, center=True, filename=fn)\n"
     ]
    },
    {
     "data": {
      "text/plain": [
       "317.309387755102"
      ]
     },
     "execution_count": 2,
     "metadata": {},
     "output_type": "execute_result"
    }
   ],
   "source": [
    "librosa.get_duration(y=None, sr=22050, S=None, n_fft=2048, hop_length=512, center=True, filename=fn)"
   ]
  },
  {
   "cell_type": "code",
   "execution_count": 3,
   "id": "dcf57d44",
   "metadata": {},
   "outputs": [
    {
     "data": {
      "text/plain": [
       "44100"
      ]
     },
     "execution_count": 3,
     "metadata": {},
     "output_type": "execute_result"
    }
   ],
   "source": [
    "librosa.get_samplerate(fn)"
   ]
  },
  {
   "cell_type": "code",
   "execution_count": 4,
   "id": "7942187f",
   "metadata": {
    "scrolled": true
   },
   "outputs": [
    {
     "data": {
      "text/plain": [
       "array([[0.16845703, 0.30664062, 0.44140625, ..., 0.        , 0.        ,\n",
       "        0.        ]])"
      ]
     },
     "execution_count": 4,
     "metadata": {},
     "output_type": "execute_result"
    }
   ],
   "source": [
    "librosa.feature.zero_crossing_rate(y, frame_length = 2048, hop_length = 512, center = True) "
   ]
  },
  {
   "cell_type": "code",
   "execution_count": 5,
   "id": "17bdff22",
   "metadata": {},
   "outputs": [
    {
     "ename": "AttributeError",
     "evalue": "module 'librosa.display' has no attribute 'waveplot'",
     "output_type": "error",
     "traceback": [
      "\u001b[1;31m---------------------------------------------------------------------------\u001b[0m",
      "\u001b[1;31mAttributeError\u001b[0m                            Traceback (most recent call last)",
      "Cell \u001b[1;32mIn[5], line 1\u001b[0m\n\u001b[1;32m----> 1\u001b[0m librosa\u001b[38;5;241m.\u001b[39mdisplay\u001b[38;5;241m.\u001b[39mwaveplot(y, sr\u001b[38;5;241m=\u001b[39m\u001b[38;5;241m22050\u001b[39m, x_axis\u001b[38;5;241m=\u001b[39m\u001b[38;5;124m'\u001b[39m\u001b[38;5;124mtime\u001b[39m\u001b[38;5;124m'\u001b[39m, offset\u001b[38;5;241m=\u001b[39m\u001b[38;5;241m0.0\u001b[39m, ax\u001b[38;5;241m=\u001b[39m\u001b[38;5;28;01mNone\u001b[39;00m)\n",
      "\u001b[1;31mAttributeError\u001b[0m: module 'librosa.display' has no attribute 'waveplot'"
     ]
    }
   ],
   "source": [
    "librosa.display.waveplot(y, sr=22050, x_axis='time', offset=0.0, ax=None)"
   ]
  },
  {
   "cell_type": "code",
   "execution_count": null,
   "id": "6d0155a8",
   "metadata": {},
   "outputs": [],
   "source": []
  }
 ],
 "metadata": {
  "kernelspec": {
   "display_name": "Python 3 (ipykernel)",
   "language": "python",
   "name": "python3"
  },
  "language_info": {
   "codemirror_mode": {
    "name": "ipython",
    "version": 3
   },
   "file_extension": ".py",
   "mimetype": "text/x-python",
   "name": "python",
   "nbconvert_exporter": "python",
   "pygments_lexer": "ipython3",
   "version": "3.11.5"
  }
 },
 "nbformat": 4,
 "nbformat_minor": 5
}
