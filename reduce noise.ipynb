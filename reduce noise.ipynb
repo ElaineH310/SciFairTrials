{
 "cells": [
  {
   "cell_type": "code",
   "execution_count": 13,
   "id": "72eb118f",
   "metadata": {},
   "outputs": [],
   "source": [
    "import scipy.io.wavfile as wavfile\n",
    "from scipy.signal import butter, lfilter\n",
    "import scipy\n",
    "def butter_bandpass(lowcut, highcut, fs, order=5):\n",
    "    nyq = 0.5 * fs\n",
    "    low = lowcut / nyq\n",
    "    high = highcut / nyq\n",
    "    b, a = butter(order, [low, high], btype=\"bandpass\")\n",
    "    return b, a\n",
    "\n",
    "def butter_bandpass_filter(data, lowcut, highcut, fs, order=5):\n",
    "    b, a = butter_bandpass(lowcut, highcut, fs, order=order)\n",
    "    y = lfilter(b, a, data)\n",
    "    return y\n",
    "\n",
    "# Load data\n",
    "filename = \"01 冬節來府城食「菜包」.wav\"\n",
    "rate, data = wavfile.read(filename)\n",
    "data = data.astype(np.int16)\n",
    "# Filter noise\n",
    "filtered_data = butter_bandpass_filter(data, lowcut=50, highcut=3000, fs=rate)\n",
    "\n",
    "# Save denoised audio\n",
    "wavfile.write(\"02 冬節來府城食「菜包」.wav\", rate, filtered_data)"
   ]
  },
  {
   "cell_type": "code",
   "execution_count": null,
   "id": "0fa3af40",
   "metadata": {},
   "outputs": [],
   "source": []
  }
 ],
 "metadata": {
  "kernelspec": {
   "display_name": "Python 3 (ipykernel)",
   "language": "python",
   "name": "python3"
  },
  "language_info": {
   "codemirror_mode": {
    "name": "ipython",
    "version": 3
   },
   "file_extension": ".py",
   "mimetype": "text/x-python",
   "name": "python",
   "nbconvert_exporter": "python",
   "pygments_lexer": "ipython3",
   "version": "3.11.5"
  }
 },
 "nbformat": 4,
 "nbformat_minor": 5
}
